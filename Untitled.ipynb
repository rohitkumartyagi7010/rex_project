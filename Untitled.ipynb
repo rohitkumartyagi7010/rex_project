{
 "cells": [
  {
   "cell_type": "code",
   "execution_count": 1,
   "id": "aa04447d-746a-4da9-9b62-891bc13fb444",
   "metadata": {},
   "outputs": [],
   "source": [
    "import pickle\n",
    "\n",
    "my_dict_object =  [\"rohit\",\"sachin\",\"bhaker\",\"Priya\"]\n",
    "\n",
    "\n",
    "with open(\"my_pickle_file.pkl\",\"wb\") as file:\n",
    "    pickle.dump(my_dict_object,file)"
   ]
  },
  {
   "cell_type": "code",
   "execution_count": 2,
   "id": "3aafdfe4-934c-4b57-b435-292753f582f1",
   "metadata": {},
   "outputs": [],
   "source": [
    "\n",
    "\n",
    "import pickle \n",
    "\n",
    "with open(\"my_pickle_file.pkl\",\"rb\") as file:\n",
    "    data = pickle.load(file)\n"
   ]
  },
  {
   "cell_type": "code",
   "execution_count": 3,
   "id": "7f49dcb7-68f2-40be-bb0e-20c99cb2d502",
   "metadata": {},
   "outputs": [
    {
     "name": "stdout",
     "output_type": "stream",
     "text": [
      "['rohit', 'sachin', 'bhaker', 'Priya']\n"
     ]
    }
   ],
   "source": [
    "print(data)"
   ]
  },
  {
   "cell_type": "code",
   "execution_count": null,
   "id": "71ead0a9-c623-4d5a-a755-a6dc19972162",
   "metadata": {},
   "outputs": [],
   "source": []
  }
 ],
 "metadata": {
  "kernelspec": {
   "display_name": "Python 3 (ipykernel)",
   "language": "python",
   "name": "python3"
  },
  "language_info": {
   "codemirror_mode": {
    "name": "ipython",
    "version": 3
   },
   "file_extension": ".py",
   "mimetype": "text/x-python",
   "name": "python",
   "nbconvert_exporter": "python",
   "pygments_lexer": "ipython3",
   "version": "3.11.7"
  }
 },
 "nbformat": 4,
 "nbformat_minor": 5
}
